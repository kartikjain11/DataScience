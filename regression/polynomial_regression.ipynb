{
 "cells": [
  {
   "cell_type": "markdown",
   "metadata": {},
   "source": [
    "# Polynomial Regression and Pipelines"
   ]
  },
  {
   "cell_type": "markdown",
   "metadata": {},
   "source": [
    "1. Useful for curvilinear relationships\n",
    "\n",
    "![Curvilinear Relationship](/home/kartik/Documents/PythonProjects/DataScience/regression/CurvilinearRelationship.jpg)\n",
    "\n",
    "2nd order polynomial regression\n",
    "\n",
    "![2nd order polynomial regression](/home/kartik/Documents/PythonProjects/DataScience/regression/higher_order_polynomial_regression.jpg)\n",
    "\n",
    "Pipeline simplies the process of transformation and prediction\n",
    "\n",
    "![pipeline](/home/kartik/Documents/PythonProjects/DataScience/regression/pipelines.jpg)\n"
   ]
  },
  {
   "cell_type": "code",
   "execution_count": null,
   "metadata": {},
   "outputs": [],
   "source": [
    "from sklearn.preprocessing import PolynomialFeatures\n",
    "from sklearn.linear_model import LinearRegression\n",
    "from sklearn.preprocessing import StandardScaler\n",
    "from sklearn.pipeline import Pipeline\n"
   ]
  }
 ],
 "metadata": {
  "interpreter": {
   "hash": "e7370f93d1d0cde622a1f8e1c04877d8463912d04d973331ad4851f04de6915a"
  },
  "kernelspec": {
   "display_name": "Python 3.10.4 64-bit",
   "language": "python",
   "name": "python3"
  },
  "language_info": {
   "codemirror_mode": {
    "name": "ipython",
    "version": 3
   },
   "file_extension": ".py",
   "mimetype": "text/x-python",
   "name": "python",
   "nbconvert_exporter": "python",
   "pygments_lexer": "ipython3",
   "version": "3.10.4"
  },
  "orig_nbformat": 4
 },
 "nbformat": 4,
 "nbformat_minor": 2
}
